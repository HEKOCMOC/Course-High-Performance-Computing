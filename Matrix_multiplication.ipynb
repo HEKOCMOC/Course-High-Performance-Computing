{
  "nbformat": 4,
  "nbformat_minor": 0,
  "metadata": {
    "colab": {
      "name": "Matrix multiplication.ipynb",
      "provenance": [],
      "collapsed_sections": [],
      "authorship_tag": "ABX9TyOIbD0g6YiK01R+am6B2r7c",
      "include_colab_link": true
    },
    "kernelspec": {
      "name": "python3",
      "display_name": "Python 3"
    },
    "language_info": {
      "name": "python"
    },
    "accelerator": "GPU"
  },
  "cells": [
    {
      "cell_type": "markdown",
      "metadata": {
        "id": "view-in-github",
        "colab_type": "text"
      },
      "source": [
        "<a href=\"https://colab.research.google.com/github/HEKOCMOC/HPC_LAB/blob/main/Matrix_multiplication.ipynb\" target=\"_parent\"><img src=\"https://colab.research.google.com/assets/colab-badge.svg\" alt=\"Open In Colab\"/></a>"
      ]
    },
    {
      "cell_type": "code",
      "metadata": {
        "colab": {
          "base_uri": "https://localhost:8080/"
        },
        "id": "aJxmSgIyrYCZ",
        "outputId": "ffa14838-adeb-480e-fa95-f3c0379c727e"
      },
      "source": [
        "%pylab inline"
      ],
      "execution_count": 1,
      "outputs": [
        {
          "output_type": "stream",
          "name": "stdout",
          "text": [
            "Populating the interactive namespace from numpy and matplotlib\n"
          ]
        }
      ]
    },
    {
      "cell_type": "code",
      "metadata": {
        "colab": {
          "base_uri": "https://localhost:8080/"
        },
        "id": "o4HIVpUarbeb",
        "outputId": "c1ca77cc-2176-46ba-c447-885d7ffd4c4c"
      },
      "source": [
        "import math\n",
        "import numpy as np\n",
        "from numba import cuda, jit, float64, prange\n",
        "from numba.cuda import jit \n",
        "import time\n",
        "import pandas as pd\n",
        "\n",
        "cuda.detect()"
      ],
      "execution_count": 2,
      "outputs": [
        {
          "output_type": "stream",
          "name": "stdout",
          "text": [
            "Found 1 CUDA devices\n",
            "id 0            b'Tesla K80'                              [SUPPORTED]\n",
            "                      compute capability: 3.7\n",
            "                           pci device id: 4\n",
            "                              pci bus id: 0\n",
            "Summary:\n",
            "\t1/1 devices are supported\n"
          ]
        },
        {
          "output_type": "execute_result",
          "data": {
            "text/plain": [
              "True"
            ]
          },
          "metadata": {},
          "execution_count": 2
        }
      ]
    },
    {
      "cell_type": "code",
      "metadata": {
        "id": "DoTH_1WItIvh"
      },
      "source": [
        "N0 = np.random.randint(100, 2000)\n",
        "A0 = np.random.randn(N0, N0)\n",
        "B0 = np.random.randn(N0, N0)\n",
        "C0 = np.zeros((N0, N0))"
      ],
      "execution_count": 3,
      "outputs": []
    },
    {
      "cell_type": "code",
      "metadata": {
        "id": "prJVLgbNZL1R"
      },
      "source": [
        "N1 = np.random.randint(100, 2000)\n",
        "A1 = np.random.randn(N1, N1)\n",
        "B1 = np.random.randn(N1, N1)\n",
        "C1 = np.zeros((N1, N1))"
      ],
      "execution_count": 4,
      "outputs": []
    },
    {
      "cell_type": "code",
      "metadata": {
        "id": "utiG3h5mZMrv"
      },
      "source": [
        "N2 = np.random.randint(100, 2000)\n",
        "A2 = np.random.randn(N2, N2)\n",
        "B2 = np.random.randn(N2, N2)\n",
        "C2 = np.zeros((N2, N2))"
      ],
      "execution_count": 5,
      "outputs": []
    },
    {
      "cell_type": "code",
      "metadata": {
        "colab": {
          "base_uri": "https://localhost:8080/"
        },
        "id": "88SCFSHPu-1n",
        "outputId": "ea571c40-ff91-45d9-8755-226521f9da63"
      },
      "source": [
        "def matmul_CPU(A, B, C):\n",
        "  for i in range(C.shape[0]):\n",
        "    for j in range(C.shape[1]):\n",
        "      sum = 0\n",
        "      for k in range(A.shape[1]):\n",
        "        sum += A[i, k] * B[k, j]\n",
        "      C[i, j] = sum\n",
        "      return C\n",
        "\n",
        "host_1 = C0\n",
        "\n",
        "start = time.time()\n",
        "matmul_CPU(A0, B0, C0)\n",
        "print(' -----------------------------')\n",
        "print('| Matmul on CPU: {:.6f}'.format(time.time() - start), 'sec.|')\n",
        "end0 = time.time() - start\n",
        "print(' -----------------------------')"
      ],
      "execution_count": 6,
      "outputs": [
        {
          "output_type": "stream",
          "name": "stdout",
          "text": [
            " -----------------------------\n",
            "| Matmul on CPU: 0.000931 sec.|\n",
            " -----------------------------\n"
          ]
        }
      ]
    },
    {
      "cell_type": "code",
      "metadata": {
        "colab": {
          "base_uri": "https://localhost:8080/"
        },
        "id": "9syxnmeTZkWO",
        "outputId": "609b8653-0d00-4ec2-9f6c-44c27690feb1"
      },
      "source": [
        "start = time.time()\n",
        "matmul_CPU(A1, B1, C1)\n",
        "print(' -----------------------------')\n",
        "print('| Matmul on CPU: {:.6f}'.format(time.time() - start), 'sec.|')\n",
        "end1 = time.time() - start\n",
        "print(' -----------------------------')"
      ],
      "execution_count": 7,
      "outputs": [
        {
          "output_type": "stream",
          "name": "stdout",
          "text": [
            " -----------------------------\n",
            "| Matmul on CPU: 0.002488 sec.|\n",
            " -----------------------------\n"
          ]
        }
      ]
    },
    {
      "cell_type": "code",
      "metadata": {
        "colab": {
          "base_uri": "https://localhost:8080/"
        },
        "id": "cOwsLVajZptu",
        "outputId": "b98c46ff-e0ba-4ddf-edec-753c820f0c60"
      },
      "source": [
        "start = time.time()\n",
        "matmul_CPU(A2, B2, C2)\n",
        "print(' -----------------------------')\n",
        "print('| Matmul on CPU: {:.6f}'.format(time.time() - start), 'sec.|')\n",
        "end2 = time.time() - start\n",
        "print(' -----------------------------')"
      ],
      "execution_count": 8,
      "outputs": [
        {
          "output_type": "stream",
          "name": "stdout",
          "text": [
            " -----------------------------\n",
            "| Matmul on CPU: 0.003069 sec.|\n",
            " -----------------------------\n"
          ]
        }
      ]
    },
    {
      "cell_type": "code",
      "metadata": {
        "colab": {
          "base_uri": "https://localhost:8080/"
        },
        "id": "qH8N7wDc1LdY",
        "outputId": "3c3c90ab-ee82-43fc-d370-55bcf71f3618"
      },
      "source": [
        "@cuda.jit\n",
        "def matmul_GPU(A, B, C):\n",
        "  i, j = cuda.grid(2)\n",
        "  if i < C.shape[0] and j < C.shape[1]:\n",
        "    sum = 0\n",
        "    for k in range(A.shape[1]):\n",
        "      sum += A[i, k] * B[k, j]\n",
        "    C[i, j] = sum\n",
        "    \n",
        "\n",
        "def host_naive(A, B, C):\n",
        "  d_A = cuda.to_device(A)\n",
        "  d_B = cuda.to_device(B)\n",
        "  d_C = cuda.device_array(C.shape, np.float64)\n",
        "\n",
        "  threadsperblock = (16, 16)\n",
        "  blockspergrid_x = math.ceil(A.shape[0]/threadsperblock[0])\n",
        "  blockspergrid_y = math.ceil(B.shape[1]/threadsperblock[1])\n",
        "  blockspergrid = (blockspergrid_x, blockspergrid_y)\n",
        "\n",
        "  matmul_GPU[blockspergrid, threadsperblock](d_A, d_B, d_C)\n",
        "  return d_C.copy_to_host()\n",
        "\n",
        "host_2 = C0\n",
        "start = time.time()\n",
        "host_naive(A0, B0, C0)\n",
        "print(' -----------------------------')\n",
        "print('| Matmul on GPU: {:.6f}'.format(time.time() - start), 'sec.|')\n",
        "end3 = time.time() - start\n",
        "print(' -----------------------------')"
      ],
      "execution_count": 9,
      "outputs": [
        {
          "output_type": "stream",
          "name": "stdout",
          "text": [
            " -----------------------------\n",
            "| Matmul on GPU: 0.628219 sec.|\n",
            " -----------------------------\n"
          ]
        }
      ]
    },
    {
      "cell_type": "code",
      "metadata": {
        "colab": {
          "base_uri": "https://localhost:8080/"
        },
        "id": "iWyBMP6AZzIl",
        "outputId": "7ee9519e-754f-4a2f-caca-f26d1ac9dddc"
      },
      "source": [
        "start = time.time()\n",
        "host_naive(A1, B1, C1)\n",
        "print(' -----------------------------')\n",
        "print('| Matmul on GPU: {:.6f}'.format(time.time() - start), 'sec.|')\n",
        "end4 = time.time() - start\n",
        "print(' -----------------------------')"
      ],
      "execution_count": 10,
      "outputs": [
        {
          "output_type": "stream",
          "name": "stdout",
          "text": [
            " -----------------------------\n",
            "| Matmul on GPU: 0.122214 sec.|\n",
            " -----------------------------\n"
          ]
        }
      ]
    },
    {
      "cell_type": "code",
      "metadata": {
        "colab": {
          "base_uri": "https://localhost:8080/"
        },
        "id": "51vsbM_xZy8c",
        "outputId": "3f79752b-2008-4463-84e0-ff2942743f67"
      },
      "source": [
        "start = time.time()\n",
        "host_naive(A2, B2, C2)\n",
        "print(' -----------------------------')\n",
        "print('| Matmul on GPU: {:.6f}'.format(time.time() - start), 'sec.|')\n",
        "end5 = time.time() - start\n",
        "print(' -----------------------------')"
      ],
      "execution_count": 11,
      "outputs": [
        {
          "output_type": "stream",
          "name": "stdout",
          "text": [
            " -----------------------------\n",
            "| Matmul on GPU: 0.500882 sec.|\n",
            " -----------------------------\n"
          ]
        }
      ]
    },
    {
      "cell_type": "code",
      "metadata": {
        "colab": {
          "base_uri": "https://localhost:8080/"
        },
        "id": "9k_JPhKi8dbb",
        "outputId": "81475bda-939c-4ba9-e8d1-18a88501e78c"
      },
      "source": [
        "print('Проверка корректности перемножения матриц') \n",
        "print('Если матрицы равны, то будет True:', np.allclose(host_1, host_2))"
      ],
      "execution_count": 12,
      "outputs": [
        {
          "output_type": "stream",
          "name": "stdout",
          "text": [
            "Проверка корректности перемножения матриц\n",
            "Если матрицы равны, то будет True: True\n"
          ]
        }
      ]
    },
    {
      "cell_type": "code",
      "metadata": {
        "id": "2F5BItNMKJaW",
        "colab": {
          "base_uri": "https://localhost:8080/",
          "height": 235
        },
        "outputId": "6d8225ca-56df-4403-e253-2fda505b0544"
      },
      "source": [
        "timing_df = pd.DataFrame({'Name':['CPU', 'GPU', 'CPU', 'GPU', 'CPU', 'GPU'], 'Time(s)':[end0, end3, end1, end4, end2, end5], 'Matrix size':[N0, N0, N1, N1, N2, N2]})\n",
        "timing_df"
      ],
      "execution_count": 15,
      "outputs": [
        {
          "output_type": "execute_result",
          "data": {
            "text/html": [
              "<div>\n",
              "<style scoped>\n",
              "    .dataframe tbody tr th:only-of-type {\n",
              "        vertical-align: middle;\n",
              "    }\n",
              "\n",
              "    .dataframe tbody tr th {\n",
              "        vertical-align: top;\n",
              "    }\n",
              "\n",
              "    .dataframe thead th {\n",
              "        text-align: right;\n",
              "    }\n",
              "</style>\n",
              "<table border=\"1\" class=\"dataframe\">\n",
              "  <thead>\n",
              "    <tr style=\"text-align: right;\">\n",
              "      <th></th>\n",
              "      <th>Name</th>\n",
              "      <th>Time(s)</th>\n",
              "      <th>Matrix size</th>\n",
              "    </tr>\n",
              "  </thead>\n",
              "  <tbody>\n",
              "    <tr>\n",
              "      <th>0</th>\n",
              "      <td>CPU</td>\n",
              "      <td>0.001070</td>\n",
              "      <td>1008</td>\n",
              "    </tr>\n",
              "    <tr>\n",
              "      <th>1</th>\n",
              "      <td>GPU</td>\n",
              "      <td>0.628381</td>\n",
              "      <td>1008</td>\n",
              "    </tr>\n",
              "    <tr>\n",
              "      <th>2</th>\n",
              "      <td>CPU</td>\n",
              "      <td>0.002701</td>\n",
              "      <td>924</td>\n",
              "    </tr>\n",
              "    <tr>\n",
              "      <th>3</th>\n",
              "      <td>GPU</td>\n",
              "      <td>0.122361</td>\n",
              "      <td>924</td>\n",
              "    </tr>\n",
              "    <tr>\n",
              "      <th>4</th>\n",
              "      <td>CPU</td>\n",
              "      <td>0.003404</td>\n",
              "      <td>1589</td>\n",
              "    </tr>\n",
              "    <tr>\n",
              "      <th>5</th>\n",
              "      <td>GPU</td>\n",
              "      <td>0.501032</td>\n",
              "      <td>1589</td>\n",
              "    </tr>\n",
              "  </tbody>\n",
              "</table>\n",
              "</div>"
            ],
            "text/plain": [
              "  Name   Time(s)  Matrix size\n",
              "0  CPU  0.001070         1008\n",
              "1  GPU  0.628381         1008\n",
              "2  CPU  0.002701          924\n",
              "3  GPU  0.122361          924\n",
              "4  CPU  0.003404         1589\n",
              "5  GPU  0.501032         1589"
            ]
          },
          "metadata": {},
          "execution_count": 15
        }
      ]
    }
  ]
}