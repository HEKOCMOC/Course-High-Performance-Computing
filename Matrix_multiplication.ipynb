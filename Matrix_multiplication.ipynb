{
  "nbformat": 4,
  "nbformat_minor": 0,
  "metadata": {
    "colab": {
      "name": "Matrix multiplication.ipynb",
      "provenance": [],
      "collapsed_sections": [],
      "authorship_tag": "ABX9TyMBQ9rAhYTYYNlTzRc9L3Og"
    },
    "kernelspec": {
      "name": "python3",
      "display_name": "Python 3"
    },
    "language_info": {
      "name": "python"
    },
    "accelerator": "GPU"
  },
  "cells": [
    {
      "cell_type": "code",
      "metadata": {
        "colab": {
          "base_uri": "https://localhost:8080/"
        },
        "id": "aJxmSgIyrYCZ",
        "outputId": "3958d4a3-382c-485b-eb58-954c2050ddd0"
      },
      "source": [
        "%pylab inline"
      ],
      "execution_count": 1,
      "outputs": [
        {
          "output_type": "stream",
          "name": "stdout",
          "text": [
            "Populating the interactive namespace from numpy and matplotlib\n"
          ]
        }
      ]
    },
    {
      "cell_type": "code",
      "metadata": {
        "colab": {
          "base_uri": "https://localhost:8080/"
        },
        "id": "o4HIVpUarbeb",
        "outputId": "5a123377-5cbd-4caa-bf24-b832bb7b11fb"
      },
      "source": [
        "import math\n",
        "import numpy as np\n",
        "from numba import cuda, jit, float64, prange\n",
        "from numba.cuda import jit \n",
        "import time\n",
        "import pandas as pd\n",
        "\n",
        "cuda.detect()"
      ],
      "execution_count": 2,
      "outputs": [
        {
          "output_type": "stream",
          "name": "stdout",
          "text": [
            "Found 1 CUDA devices\n",
            "id 0            b'Tesla K80'                              [SUPPORTED]\n",
            "                      compute capability: 3.7\n",
            "                           pci device id: 4\n",
            "                              pci bus id: 0\n",
            "Summary:\n",
            "\t1/1 devices are supported\n"
          ]
        },
        {
          "output_type": "execute_result",
          "data": {
            "text/plain": [
              "True"
            ]
          },
          "metadata": {},
          "execution_count": 2
        }
      ]
    },
    {
      "cell_type": "code",
      "metadata": {
        "id": "DoTH_1WItIvh"
      },
      "source": [
        "N0 = np.random.randint(100, 2000)\n",
        "A0 = np.random.randn(N0, N0)\n",
        "B0 = np.random.randn(N0, N0)\n",
        "C0 = np.zeros((N0, N0))"
      ],
      "execution_count": 3,
      "outputs": []
    },
    {
      "cell_type": "code",
      "metadata": {
        "id": "prJVLgbNZL1R"
      },
      "source": [
        "N1 = np.random.randint(100, 2000)\n",
        "A1 = np.random.randn(N1, N1)\n",
        "B1 = np.random.randn(N1, N1)\n",
        "C1 = np.zeros((N1, N1))"
      ],
      "execution_count": 4,
      "outputs": []
    },
    {
      "cell_type": "code",
      "metadata": {
        "id": "utiG3h5mZMrv"
      },
      "source": [
        "N2 = np.random.randint(100, 2000)\n",
        "A2 = np.random.randn(N2, N2)\n",
        "B2 = np.random.randn(N2, N2)\n",
        "C2 = np.zeros((N2, N2))"
      ],
      "execution_count": 5,
      "outputs": []
    },
    {
      "cell_type": "code",
      "metadata": {
        "colab": {
          "base_uri": "https://localhost:8080/"
        },
        "id": "88SCFSHPu-1n",
        "outputId": "0c37298f-f17b-4b5c-c4e1-26d7ef8751fc"
      },
      "source": [
        "def matmul_CPU(A, B, C):\n",
        "  for i in range(C.shape[0]):\n",
        "    for j in range(C.shape[1]):\n",
        "      sum = 0\n",
        "      for k in range(A.shape[1]):\n",
        "        sum += A[i, k] * B[k, j]\n",
        "      C[i, j] = sum\n",
        "      return C\n",
        "\n",
        "host_1 = C0\n",
        "\n",
        "start = time.time()\n",
        "matmul_CPU(A0, B0, C0)\n",
        "print(' -----------------------------')\n",
        "print('| Matmul on CPU: {:.6f}'.format(time.time() - start), 'sec.|')\n",
        "end0 = time.time() - start\n",
        "print(' -----------------------------')"
      ],
      "execution_count": 6,
      "outputs": [
        {
          "output_type": "stream",
          "name": "stdout",
          "text": [
            " -----------------------------\n",
            "| Matmul on CPU: 0.001494 sec.|\n",
            " -----------------------------\n"
          ]
        }
      ]
    },
    {
      "cell_type": "code",
      "metadata": {
        "colab": {
          "base_uri": "https://localhost:8080/"
        },
        "id": "9syxnmeTZkWO",
        "outputId": "a6588b78-45c9-4f17-bdf9-d27f2585fc8c"
      },
      "source": [
        "start = time.time()\n",
        "matmul_CPU(A1, B1, C1)\n",
        "print(' -----------------------------')\n",
        "print('| Matmul on CPU: {:.6f}'.format(time.time() - start), 'sec.|')\n",
        "end1 = time.time() - start\n",
        "print(' -----------------------------')"
      ],
      "execution_count": 7,
      "outputs": [
        {
          "output_type": "stream",
          "name": "stdout",
          "text": [
            " -----------------------------\n",
            "| Matmul on CPU: 0.001051 sec.|\n",
            " -----------------------------\n"
          ]
        }
      ]
    },
    {
      "cell_type": "code",
      "metadata": {
        "colab": {
          "base_uri": "https://localhost:8080/"
        },
        "id": "cOwsLVajZptu",
        "outputId": "b84a9446-02a5-445d-ec54-b1f31fdc1361"
      },
      "source": [
        "start = time.time()\n",
        "matmul_CPU(A2, B2, C2)\n",
        "print(' -----------------------------')\n",
        "print('| Matmul on CPU: {:.6f}'.format(time.time() - start), 'sec.|')\n",
        "end2 = time.time() - start\n",
        "print(' -----------------------------')"
      ],
      "execution_count": 8,
      "outputs": [
        {
          "output_type": "stream",
          "name": "stdout",
          "text": [
            " -----------------------------\n",
            "| Matmul on CPU: 0.001531 sec.|\n",
            " -----------------------------\n"
          ]
        }
      ]
    },
    {
      "cell_type": "code",
      "metadata": {
        "colab": {
          "base_uri": "https://localhost:8080/"
        },
        "id": "qH8N7wDc1LdY",
        "outputId": "91e6c4dc-2f14-4ca3-b314-fdd98ac884e2"
      },
      "source": [
        "@cuda.jit\n",
        "def matmul_GPU(A, B, C):\n",
        "  i, j = cuda.grid(2)\n",
        "  if i < C.shape[0] and j < C.shape[1]:\n",
        "    sum = 0\n",
        "    for k in range(A.shape[1]):\n",
        "      sum += A[i, k] * B[k, j]\n",
        "    C[i, j] = sum\n",
        "\n",
        "def host_naive(A, B, C):\n",
        "  d_A = cuda.to_device(A)\n",
        "  d_B = cuda.to_device(B)\n",
        "  d_C = cuda.device_array(C.shape, np.float64)\n",
        "\n",
        "  threadsperblock = (16, 16)\n",
        "  blockspergrid_x = math.ceil(A.shape[0]/threadsperblock[0])\n",
        "  blockspergrid_y = math.ceil(B.shape[1]/threadsperblock[1])\n",
        "  blockspergrid = (blockspergrid_x, blockspergrid_y)\n",
        "\n",
        "  matmul_GPU[blockspergrid, threadsperblock](d_A, d_B, d_C)\n",
        "  return d_C.copy_to_host()\n",
        "\n",
        "host_2 = C0\n",
        "start = time.time()\n",
        "host_naive(A0, B0, C0)\n",
        "print(' -----------------------------')\n",
        "print('| Matmul on GPU: {:.6f}'.format(time.time() - start), 'sec.|')\n",
        "end3 = time.time() - start\n",
        "print(' -----------------------------')"
      ],
      "execution_count": 9,
      "outputs": [
        {
          "output_type": "stream",
          "name": "stdout",
          "text": [
            " -----------------------------\n",
            "| Matmul on GPU: 1.112264 sec.|\n",
            " -----------------------------\n"
          ]
        }
      ]
    },
    {
      "cell_type": "code",
      "metadata": {
        "colab": {
          "base_uri": "https://localhost:8080/"
        },
        "id": "iWyBMP6AZzIl",
        "outputId": "3def2970-4b2a-4e40-f6ac-69c92adbef09"
      },
      "source": [
        "start = time.time()\n",
        "host_naive(A1, B1, C1)\n",
        "print(' -----------------------------')\n",
        "print('| Matmul on GPU: {:.6f}'.format(time.time() - start), 'sec.|')\n",
        "end4 = time.time() - start\n",
        "print(' -----------------------------')"
      ],
      "execution_count": 10,
      "outputs": [
        {
          "output_type": "stream",
          "name": "stdout",
          "text": [
            " -----------------------------\n",
            "| Matmul on GPU: 0.129874 sec.|\n",
            " -----------------------------\n"
          ]
        }
      ]
    },
    {
      "cell_type": "code",
      "metadata": {
        "colab": {
          "base_uri": "https://localhost:8080/"
        },
        "id": "51vsbM_xZy8c",
        "outputId": "83083f64-671a-4582-cdc0-57d4f628e1af"
      },
      "source": [
        "start = time.time()\n",
        "host_naive(A2, B2, C2)\n",
        "print(' -----------------------------')\n",
        "print('| Matmul on GPU: {:.6f}'.format(time.time() - start), 'sec.|')\n",
        "end5 = time.time() - start\n",
        "print(' -----------------------------')"
      ],
      "execution_count": 11,
      "outputs": [
        {
          "output_type": "stream",
          "name": "stdout",
          "text": [
            " -----------------------------\n",
            "| Matmul on GPU: 0.064022 sec.|\n",
            " -----------------------------\n"
          ]
        }
      ]
    },
    {
      "cell_type": "code",
      "metadata": {
        "colab": {
          "base_uri": "https://localhost:8080/"
        },
        "id": "9k_JPhKi8dbb",
        "outputId": "26694f3b-0bf3-40d3-e91e-7bfb0a09f39f"
      },
      "source": [
        "print('Проверка корректности перемножения матриц') \n",
        "print('Если матрицы равны, то будет True:', np.allclose(host_1, host_2))"
      ],
      "execution_count": 12,
      "outputs": [
        {
          "output_type": "stream",
          "name": "stdout",
          "text": [
            "Проверка корректности перемножения матриц\n",
            "Если матрицы равны, то будет True: True\n"
          ]
        }
      ]
    },
    {
      "cell_type": "code",
      "metadata": {
        "id": "2F5BItNMKJaW",
        "colab": {
          "base_uri": "https://localhost:8080/",
          "height": 235
        },
        "outputId": "b4062106-2b53-4c50-c308-37ae9f562575"
      },
      "source": [
        "timing_df = pd.DataFrame({'Name':['CPU', 'GPU', 'CPU', 'GPU', 'CPU', 'GPU'], 'Time(s)':[end0, end3, end1, end4, end2, end5], 'Matrix size':[N0, N0, N1, N1, N2, N2]})\n",
        "timing_df"
      ],
      "execution_count": 13,
      "outputs": [
        {
          "output_type": "execute_result",
          "data": {
            "text/html": [
              "<div>\n",
              "<style scoped>\n",
              "    .dataframe tbody tr th:only-of-type {\n",
              "        vertical-align: middle;\n",
              "    }\n",
              "\n",
              "    .dataframe tbody tr th {\n",
              "        vertical-align: top;\n",
              "    }\n",
              "\n",
              "    .dataframe thead th {\n",
              "        text-align: right;\n",
              "    }\n",
              "</style>\n",
              "<table border=\"1\" class=\"dataframe\">\n",
              "  <thead>\n",
              "    <tr style=\"text-align: right;\">\n",
              "      <th></th>\n",
              "      <th>Name</th>\n",
              "      <th>Time(s)</th>\n",
              "      <th>Matrix size</th>\n",
              "    </tr>\n",
              "  </thead>\n",
              "  <tbody>\n",
              "    <tr>\n",
              "      <th>0</th>\n",
              "      <td>CPU</td>\n",
              "      <td>0.001671</td>\n",
              "      <td>1602</td>\n",
              "    </tr>\n",
              "    <tr>\n",
              "      <th>1</th>\n",
              "      <td>GPU</td>\n",
              "      <td>1.112504</td>\n",
              "      <td>1602</td>\n",
              "    </tr>\n",
              "    <tr>\n",
              "      <th>2</th>\n",
              "      <td>CPU</td>\n",
              "      <td>0.001460</td>\n",
              "      <td>990</td>\n",
              "    </tr>\n",
              "    <tr>\n",
              "      <th>3</th>\n",
              "      <td>GPU</td>\n",
              "      <td>0.130031</td>\n",
              "      <td>990</td>\n",
              "    </tr>\n",
              "    <tr>\n",
              "      <th>4</th>\n",
              "      <td>CPU</td>\n",
              "      <td>0.001780</td>\n",
              "      <td>777</td>\n",
              "    </tr>\n",
              "    <tr>\n",
              "      <th>5</th>\n",
              "      <td>GPU</td>\n",
              "      <td>0.064163</td>\n",
              "      <td>777</td>\n",
              "    </tr>\n",
              "  </tbody>\n",
              "</table>\n",
              "</div>"
            ],
            "text/plain": [
              "  Name   Time(s)  Matrix size\n",
              "0  CPU  0.001671         1602\n",
              "1  GPU  1.112504         1602\n",
              "2  CPU  0.001460          990\n",
              "3  GPU  0.130031          990\n",
              "4  CPU  0.001780          777\n",
              "5  GPU  0.064163          777"
            ]
          },
          "metadata": {},
          "execution_count": 13
        }
      ]
    },
    {
      "cell_type": "code",
      "metadata": {
        "colab": {
          "base_uri": "https://localhost:8080/",
          "height": 142
        },
        "id": "KCfcxDLXhLfu",
        "outputId": "d6a88d34-d0ff-40f2-8136-7717e1258ca9"
      },
      "source": [
        "acc = pd.DataFrame({'Acceleration':[end0/end3, end1/end4, end2/end5]})\n",
        "acc"
      ],
      "execution_count": 14,
      "outputs": [
        {
          "output_type": "execute_result",
          "data": {
            "text/html": [
              "<div>\n",
              "<style scoped>\n",
              "    .dataframe tbody tr th:only-of-type {\n",
              "        vertical-align: middle;\n",
              "    }\n",
              "\n",
              "    .dataframe tbody tr th {\n",
              "        vertical-align: top;\n",
              "    }\n",
              "\n",
              "    .dataframe thead th {\n",
              "        text-align: right;\n",
              "    }\n",
              "</style>\n",
              "<table border=\"1\" class=\"dataframe\">\n",
              "  <thead>\n",
              "    <tr style=\"text-align: right;\">\n",
              "      <th></th>\n",
              "      <th>Acceleration</th>\n",
              "    </tr>\n",
              "  </thead>\n",
              "  <tbody>\n",
              "    <tr>\n",
              "      <th>0</th>\n",
              "      <td>0.001502</td>\n",
              "    </tr>\n",
              "    <tr>\n",
              "      <th>1</th>\n",
              "      <td>0.011230</td>\n",
              "    </tr>\n",
              "    <tr>\n",
              "      <th>2</th>\n",
              "      <td>0.027735</td>\n",
              "    </tr>\n",
              "  </tbody>\n",
              "</table>\n",
              "</div>"
            ],
            "text/plain": [
              "   Acceleration\n",
              "0      0.001502\n",
              "1      0.011230\n",
              "2      0.027735"
            ]
          },
          "metadata": {},
          "execution_count": 14
        }
      ]
    },
    {
      "cell_type": "code",
      "metadata": {
        "id": "AitTeplXhtXb"
      },
      "source": [
        "import matplotlib.pyplot as plt"
      ],
      "execution_count": 15,
      "outputs": []
    },
    {
      "cell_type": "code",
      "metadata": {
        "colab": {
          "base_uri": "https://localhost:8080/",
          "height": 296
        },
        "id": "uVHFWctzOaFl",
        "outputId": "e4e0bc3e-26c9-4d57-a288-c34e97428938"
      },
      "source": [
        "plt.plot([N0, N1, N2], [end0, end1, end2], color = 'red' , label = 'CPU')\n",
        "plt.plot([N0, N1, N2], [end3, end4, end5], color = 'blue', label = 'GPU')\n",
        "plt.xlabel('Matrix size')\n",
        "plt.ylabel('Time')\n",
        "plt.legend()"
      ],
      "execution_count": 16,
      "outputs": [
        {
          "output_type": "execute_result",
          "data": {
            "text/plain": [
              "<matplotlib.legend.Legend at 0x7f08c0347b50>"
            ]
          },
          "metadata": {},
          "execution_count": 16
        },
        {
          "output_type": "display_data",
          "data": {
            "image/png": "[encoded data removed]",
            "text/plain": [
              "<Figure size 432x288 with 1 Axes>"
            ]
          },
          "metadata": {
            "needs_background": "light"
          }
        }
      ]
    },
    {
      "cell_type": "code",
      "metadata": {
        "id": "aomVAWrlPvse"
      },
      "source": [
        ""
      ],
      "execution_count": 16,
      "outputs": []
    }
  ]
}