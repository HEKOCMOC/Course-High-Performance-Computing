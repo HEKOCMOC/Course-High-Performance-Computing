{
  "nbformat": 4,
  "nbformat_minor": 0,
  "metadata": {
    "colab": {
      "name": "VectorSum.ipynb",
      "provenance": [],
      "authorship_tag": "ABX9TyOHWhYIxkir/n3i+vOBpBTb",
      "include_colab_link": true
    },
    "kernelspec": {
      "name": "python3",
      "display_name": "Python 3"
    },
    "language_info": {
      "name": "python"
    },
    "accelerator": "GPU"
  },
  "cells": [
    {
      "cell_type": "markdown",
      "metadata": {
        "id": "view-in-github",
        "colab_type": "text"
      },
      "source": [
        "<a href=\"https://colab.research.google.com/github/HEKOCMOC/HPC_LAB/blob/main/VectorSum/VectorSum.ipynb\" target=\"_parent\"><img src=\"https://colab.research.google.com/assets/colab-badge.svg\" alt=\"Open In Colab\"/></a>"
      ]
    },
    {
      "cell_type": "code",
      "metadata": {
        "id": "Zq4CvKSJ2KxG"
      },
      "source": [
        "import time\n",
        "from __future__ import print_function\n",
        "import numpy as np\n",
        "from numba import njit, jit, int32, int64, cuda\n",
        "import math\n",
        "import sys\n",
        "import pandas as pd"
      ],
      "execution_count": 1,
      "outputs": []
    },
    {
      "cell_type": "code",
      "metadata": {
        "id": "16aZaKJm2xVd"
      },
      "source": [
        "N = [1000, 10000, 100000, 500000, 1000000]\n",
        "a0 = np.random.randint(-100, 100, N[0])\n",
        "a1 = np.random.randint(-100, 100, N[1])\n",
        "a2 = np.random.randint(-100, 100, N[2])\n",
        "a3 = np.random.randint(-100, 100, N[3])\n",
        "a4 = np.random.randint(-100, 100, N[4])\n",
        "c1 = np.zeros(1, dtype=np.int32)"
      ],
      "execution_count": 2,
      "outputs": []
    },
    {
      "cell_type": "code",
      "metadata": {
        "id": "cZBgOGcF2_Hu"
      },
      "source": [
        "def cpu_vectorsum_numpy(x):\n",
        "  y = np.sum(x)"
      ],
      "execution_count": 3,
      "outputs": []
    },
    {
      "cell_type": "code",
      "metadata": {
        "colab": {
          "base_uri": "https://localhost:8080/"
        },
        "id": "uC3JgT7g5cua",
        "outputId": "df61d358-cc73-4c7f-c5d2-23aba3371965"
      },
      "source": [
        "s0 = time.time()\n",
        "cpu_vectorsum_numpy(a0)\n",
        "e0 = time.time() - s0\n",
        "print('-------------------------------------')\n",
        "print('Computation time on CPU: '+'%f' % (e0),'sec')\n",
        "print('-------------------------------------')\n",
        "s1 = time.time()\n",
        "cpu_vectorsum_numpy(a1)\n",
        "e1 = time.time() - s1\n",
        "print('Computation time on CPU: '+'%f' % (e1),'sec')\n",
        "print('-------------------------------------')\n",
        "s2 = time.time()\n",
        "cpu_vectorsum_numpy(a2)\n",
        "e2 = time.time() - s2\n",
        "print('Computation time on CPU: '+'%f' % (e2),'sec')\n",
        "print('-------------------------------------')\n",
        "s3 = time.time()\n",
        "cpu_vectorsum_numpy(a3)\n",
        "e3 = time.time() - s3\n",
        "print('Computation time on CPU: '+'%f' % (e3),'sec')\n",
        "print('-------------------------------------')\n",
        "s4 = time.time()\n",
        "cpu_vectorsum_numpy(a4)\n",
        "e4 = time.time() - s4\n",
        "print('Computation time on CPU: '+'%f' % (e4),'sec')\n",
        "print('-------------------------------------')"
      ],
      "execution_count": 4,
      "outputs": [
        {
          "output_type": "stream",
          "name": "stdout",
          "text": [
            "-------------------------------------\n",
            "Computation time on CPU: 0.000153 sec\n",
            "-------------------------------------\n",
            "Computation time on CPU: 0.000146 sec\n",
            "-------------------------------------\n",
            "Computation time on CPU: 0.000523 sec\n",
            "-------------------------------------\n",
            "Computation time on CPU: 0.005715 sec\n",
            "-------------------------------------\n",
            "Computation time on CPU: 0.005411 sec\n",
            "-------------------------------------\n"
          ]
        }
      ]
    },
    {
      "cell_type": "code",
      "metadata": {
        "id": "2lsFhW55MT4o"
      },
      "source": [
        "threads_per_block = 16"
      ],
      "execution_count": 5,
      "outputs": []
    },
    {
      "cell_type": "code",
      "metadata": {
        "id": "K9oOAIs3PXNc"
      },
      "source": [
        "@cuda.jit\n",
        "def gpu_vectorsum(a, c):\n",
        "  b = cuda.shared.array(threads_per_block, int64)\n",
        "\n",
        "  idx = cuda.threadIdx.x + cuda.blockIdx.x * threads_per_block\n",
        "  b[cuda.threadIdx.x] = 0\n",
        "\n",
        "  if idx < a.shape[0]:\n",
        "    b[cuda.threadIdx.x] = a[idx]\n",
        "    cuda.syncthreads()\n",
        "    if cuda.threadIdx.x == 0:\n",
        "      sum = 0\n",
        "      for i in range(threads_per_block):\n",
        "        sum += b[i]\n",
        "      cuda.atomic.add(c, 0, sum)\n",
        "\n",
        "def main(a, c):\n",
        "    dev_a = cuda.to_device(a)\n",
        "    dev_c = cuda.to_device(c)\n",
        "    gpu_vectorsum[threads_per_block, threads_per_block](dev_a, dev_c)\n",
        "    c = dev_c.copy_to_host()"
      ],
      "execution_count": 6,
      "outputs": []
    },
    {
      "cell_type": "code",
      "metadata": {
        "colab": {
          "base_uri": "https://localhost:8080/"
        },
        "id": "mVDtfhjQOzOI",
        "outputId": "8a0a521f-97a0-4a3d-a8b3-3ba7273a0e6c"
      },
      "source": [
        "s5 = time.time()\n",
        "main(a0, c1)\n",
        "e5 = time.time() - s5\n",
        "print('-------------------------------------')\n",
        "print('Computation time on GPU: '+'%f' % (e5),'sec')\n",
        "print('-------------------------------------')\n",
        "s6 = time.time()\n",
        "main(a1, c1)\n",
        "e6 = time.time() - s6\n",
        "print('Computation time on GPU: '+'%f' % (e6),'sec')\n",
        "print('-------------------------------------')\n",
        "s7 = time.time()\n",
        "main(a2, c1)\n",
        "e7 = time.time() - s7\n",
        "print('Computation time on GPU: '+'%f' % (e7),'sec')\n",
        "print('-------------------------------------')\n",
        "s8 = time.time()\n",
        "main(a3, c1)\n",
        "e8 = time.time() - s8\n",
        "print('Computation time on GPU: '+'%f' % (e8),'sec')\n",
        "print('-------------------------------------')\n",
        "s9 = time.time()\n",
        "main(a4, c1)\n",
        "e9 = time.time() - s9\n",
        "print('Computation time on GPU: '+'%f' % (e9),'sec')\n",
        "print('-------------------------------------')"
      ],
      "execution_count": 7,
      "outputs": [
        {
          "output_type": "stream",
          "name": "stdout",
          "text": [
            "-------------------------------------\n",
            "Computation time on GPU: 0.991152 sec\n",
            "-------------------------------------\n",
            "Computation time on GPU: 0.003825 sec\n",
            "-------------------------------------\n",
            "Computation time on GPU: 0.003392 sec\n",
            "-------------------------------------\n",
            "Computation time on GPU: 0.002571 sec\n",
            "-------------------------------------\n",
            "Computation time on GPU: 0.003406 sec\n",
            "-------------------------------------\n"
          ]
        }
      ]
    },
    {
      "cell_type": "code",
      "metadata": {
        "id": "Q0DYORwnPeJt"
      },
      "source": [
        "def cpu_vectorsum(x):\n",
        "  ans = np.empty_like(x)\n",
        "  for i in range(len(x)):\n",
        "    ans[i] += x[i]\n",
        "  return ans"
      ],
      "execution_count": 8,
      "outputs": []
    },
    {
      "cell_type": "code",
      "metadata": {
        "colab": {
          "base_uri": "https://localhost:8080/"
        },
        "id": "xtnuv6OdQjEe",
        "outputId": "addcc3ea-5381-4bd4-a853-9855720a2bf3"
      },
      "source": [
        "s01 = time.time()\n",
        "cpu_vectorsum(a0)\n",
        "end01 = time.time() - s01\n",
        "print('-------------------------------------')\n",
        "print('Computation time on CPU: '+'%f' %end01 , 'sec')\n",
        "print('-------------------------------------')\n",
        "s02 = time.time()\n",
        "cpu_vectorsum(a1)\n",
        "end02 = time.time() - s02\n",
        "print('Computation time on CPU: '+'%f' %end02 , 'sec')\n",
        "print('-------------------------------------')\n",
        "s03 = time.time()\n",
        "cpu_vectorsum(a2)\n",
        "end03 = time.time() - s03\n",
        "print('Computation time on CPU: '+'%f' %end03 , 'sec')\n",
        "print('-------------------------------------')\n",
        "s04 = time.time()\n",
        "cpu_vectorsum(a3)\n",
        "end04 = time.time() - s04\n",
        "print('Computation time on CPU: '+'%f' %end04 , 'sec')\n",
        "print('-------------------------------------')\n",
        "s05 = time.time()\n",
        "cpu_vectorsum(a4)\n",
        "end05 = time.time() - s05\n",
        "print('Computation time on CPU: '+'%f' %end05 , 'sec')\n",
        "print('-------------------------------------')"
      ],
      "execution_count": 9,
      "outputs": [
        {
          "output_type": "stream",
          "name": "stdout",
          "text": [
            "-------------------------------------\n",
            "Computation time on CPU: 0.000597 sec\n",
            "-------------------------------------\n",
            "Computation time on CPU: 0.005409 sec\n",
            "-------------------------------------\n",
            "Computation time on CPU: 0.052949 sec\n",
            "-------------------------------------\n",
            "Computation time on CPU: 0.270727 sec\n",
            "-------------------------------------\n",
            "Computation time on CPU: 0.532872 sec\n",
            "-------------------------------------\n"
          ]
        }
      ]
    },
    {
      "cell_type": "code",
      "metadata": {
        "colab": {
          "base_uri": "https://localhost:8080/",
          "height": 514
        },
        "id": "49pO1OdFQkgJ",
        "outputId": "a3259430-ab46-4b14-86c7-e79fd067c06e"
      },
      "source": [
        "timing_df = pd.DataFrame({'Name':['CPU', 'CPU(np.sum)', 'GPU', 'CPU', 'CPU(np.sum)', 'GPU', 'CPU', 'CPU(np.sum)', 'GPU', 'CPU', 'CPU(np.sum)', 'GPU', 'CPU', 'CPU(np.sum)', 'GPU'], 'Time(s)':[end01, e0, e5, end02, e1, e6, end03, e2, e7, end04, e3, e8, end05, e4, e9], 'Size N':[N[0], N[0], N[0], N[1], N[1], N[1], N[2], N[2], N[2], N[3], N[3], N[3], N[4], N[4], N[4]]})\n",
        "timing_df = timing_df.sort_values(['Name'])\n",
        "timing_df"
      ],
      "execution_count": 10,
      "outputs": [
        {
          "output_type": "execute_result",
          "data": {
            "text/html": [
              "<div>\n",
              "<style scoped>\n",
              "    .dataframe tbody tr th:only-of-type {\n",
              "        vertical-align: middle;\n",
              "    }\n",
              "\n",
              "    .dataframe tbody tr th {\n",
              "        vertical-align: top;\n",
              "    }\n",
              "\n",
              "    .dataframe thead th {\n",
              "        text-align: right;\n",
              "    }\n",
              "</style>\n",
              "<table border=\"1\" class=\"dataframe\">\n",
              "  <thead>\n",
              "    <tr style=\"text-align: right;\">\n",
              "      <th></th>\n",
              "      <th>Name</th>\n",
              "      <th>Time(s)</th>\n",
              "      <th>Size N</th>\n",
              "    </tr>\n",
              "  </thead>\n",
              "  <tbody>\n",
              "    <tr>\n",
              "      <th>0</th>\n",
              "      <td>CPU</td>\n",
              "      <td>0.000597</td>\n",
              "      <td>1000</td>\n",
              "    </tr>\n",
              "    <tr>\n",
              "      <th>3</th>\n",
              "      <td>CPU</td>\n",
              "      <td>0.005409</td>\n",
              "      <td>10000</td>\n",
              "    </tr>\n",
              "    <tr>\n",
              "      <th>6</th>\n",
              "      <td>CPU</td>\n",
              "      <td>0.052949</td>\n",
              "      <td>100000</td>\n",
              "    </tr>\n",
              "    <tr>\n",
              "      <th>9</th>\n",
              "      <td>CPU</td>\n",
              "      <td>0.270727</td>\n",
              "      <td>500000</td>\n",
              "    </tr>\n",
              "    <tr>\n",
              "      <th>12</th>\n",
              "      <td>CPU</td>\n",
              "      <td>0.532872</td>\n",
              "      <td>1000000</td>\n",
              "    </tr>\n",
              "    <tr>\n",
              "      <th>1</th>\n",
              "      <td>CPU(np.sum)</td>\n",
              "      <td>0.000153</td>\n",
              "      <td>1000</td>\n",
              "    </tr>\n",
              "    <tr>\n",
              "      <th>4</th>\n",
              "      <td>CPU(np.sum)</td>\n",
              "      <td>0.000146</td>\n",
              "      <td>10000</td>\n",
              "    </tr>\n",
              "    <tr>\n",
              "      <th>7</th>\n",
              "      <td>CPU(np.sum)</td>\n",
              "      <td>0.000523</td>\n",
              "      <td>100000</td>\n",
              "    </tr>\n",
              "    <tr>\n",
              "      <th>10</th>\n",
              "      <td>CPU(np.sum)</td>\n",
              "      <td>0.005715</td>\n",
              "      <td>500000</td>\n",
              "    </tr>\n",
              "    <tr>\n",
              "      <th>13</th>\n",
              "      <td>CPU(np.sum)</td>\n",
              "      <td>0.005411</td>\n",
              "      <td>1000000</td>\n",
              "    </tr>\n",
              "    <tr>\n",
              "      <th>2</th>\n",
              "      <td>GPU</td>\n",
              "      <td>0.991152</td>\n",
              "      <td>1000</td>\n",
              "    </tr>\n",
              "    <tr>\n",
              "      <th>5</th>\n",
              "      <td>GPU</td>\n",
              "      <td>0.003825</td>\n",
              "      <td>10000</td>\n",
              "    </tr>\n",
              "    <tr>\n",
              "      <th>8</th>\n",
              "      <td>GPU</td>\n",
              "      <td>0.003392</td>\n",
              "      <td>100000</td>\n",
              "    </tr>\n",
              "    <tr>\n",
              "      <th>11</th>\n",
              "      <td>GPU</td>\n",
              "      <td>0.002571</td>\n",
              "      <td>500000</td>\n",
              "    </tr>\n",
              "    <tr>\n",
              "      <th>14</th>\n",
              "      <td>GPU</td>\n",
              "      <td>0.003406</td>\n",
              "      <td>1000000</td>\n",
              "    </tr>\n",
              "  </tbody>\n",
              "</table>\n",
              "</div>"
            ],
            "text/plain": [
              "           Name   Time(s)   Size N\n",
              "0           CPU  0.000597     1000\n",
              "3           CPU  0.005409    10000\n",
              "6           CPU  0.052949   100000\n",
              "9           CPU  0.270727   500000\n",
              "12          CPU  0.532872  1000000\n",
              "1   CPU(np.sum)  0.000153     1000\n",
              "4   CPU(np.sum)  0.000146    10000\n",
              "7   CPU(np.sum)  0.000523   100000\n",
              "10  CPU(np.sum)  0.005715   500000\n",
              "13  CPU(np.sum)  0.005411  1000000\n",
              "2           GPU  0.991152     1000\n",
              "5           GPU  0.003825    10000\n",
              "8           GPU  0.003392   100000\n",
              "11          GPU  0.002571   500000\n",
              "14          GPU  0.003406  1000000"
            ]
          },
          "metadata": {},
          "execution_count": 10
        }
      ]
    },
    {
      "cell_type": "code",
      "metadata": {
        "colab": {
          "base_uri": "https://localhost:8080/",
          "height": 204
        },
        "id": "pbv2rO97_1nY",
        "outputId": "3746eb6a-46e8-43f2-972a-de334fbeecd4"
      },
      "source": [
        "acc = pd.DataFrame({'Acceleration (CPU/GPU)':['%f' %(end01/e5), '%f' %(end02/e6), '%f' %(end03/e7), '%f' %(end04/e8) , '%f' %(end04/e9)], 'Acceleration (CPU(np.sum)/GPU)':['%f' %(e0/e5), '%f' %(e1/e6), '%f' %(e2/e7), '%f' %(e3/e8) , '%f' %(e4/e9)]})\n",
        "acc"
      ],
      "execution_count": 16,
      "outputs": [
        {
          "output_type": "execute_result",
          "data": {
            "text/html": [
              "<div>\n",
              "<style scoped>\n",
              "    .dataframe tbody tr th:only-of-type {\n",
              "        vertical-align: middle;\n",
              "    }\n",
              "\n",
              "    .dataframe tbody tr th {\n",
              "        vertical-align: top;\n",
              "    }\n",
              "\n",
              "    .dataframe thead th {\n",
              "        text-align: right;\n",
              "    }\n",
              "</style>\n",
              "<table border=\"1\" class=\"dataframe\">\n",
              "  <thead>\n",
              "    <tr style=\"text-align: right;\">\n",
              "      <th></th>\n",
              "      <th>Acceleration (CPU/GPU)</th>\n",
              "      <th>Acceleration (CPU(np.sum)/GPU)</th>\n",
              "    </tr>\n",
              "  </thead>\n",
              "  <tbody>\n",
              "    <tr>\n",
              "      <th>0</th>\n",
              "      <td>0.000602</td>\n",
              "      <td>0.000155</td>\n",
              "    </tr>\n",
              "    <tr>\n",
              "      <th>1</th>\n",
              "      <td>1.413987</td>\n",
              "      <td>0.038270</td>\n",
              "    </tr>\n",
              "    <tr>\n",
              "      <th>2</th>\n",
              "      <td>15.612373</td>\n",
              "      <td>0.154165</td>\n",
              "    </tr>\n",
              "    <tr>\n",
              "      <th>3</th>\n",
              "      <td>105.315340</td>\n",
              "      <td>2.223057</td>\n",
              "    </tr>\n",
              "    <tr>\n",
              "      <th>4</th>\n",
              "      <td>79.484110</td>\n",
              "      <td>1.588758</td>\n",
              "    </tr>\n",
              "  </tbody>\n",
              "</table>\n",
              "</div>"
            ],
            "text/plain": [
              "  Acceleration (CPU/GPU) Acceleration (CPU(np.sum)/GPU)\n",
              "0               0.000602                       0.000155\n",
              "1               1.413987                       0.038270\n",
              "2              15.612373                       0.154165\n",
              "3             105.315340                       2.223057\n",
              "4              79.484110                       1.588758"
            ]
          },
          "metadata": {},
          "execution_count": 16
        }
      ]
    },
    {
      "cell_type": "code",
      "metadata": {
        "id": "DOeyqJ7bGNfy"
      },
      "source": [
        "import matplotlib.pyplot as plt"
      ],
      "execution_count": 12,
      "outputs": []
    },
    {
      "cell_type": "code",
      "metadata": {
        "colab": {
          "base_uri": "https://localhost:8080/",
          "height": 307
        },
        "id": "1WrUNsHvH0WJ",
        "outputId": "54566ef8-6d73-4d6e-d928-705fa71a7f8c"
      },
      "source": [
        "plt.plot([end01, end02, end03, end04, end05], N, color = 'red' , label = 'CPU')\n",
        "plt.plot([e0, e1, e2, e3, e4], N, color = 'blue', label = 'CPU (np.sum)')\n",
        "plt.plot([e5, e6, e7, e8, e9], N, color = 'green', label = 'GPU')\n",
        "plt.rcParams['figure.facecolor'] = 'white'\n",
        "plt.xlabel('Vector size')\n",
        "plt.ylabel('Time, s')\n",
        "plt.legend()"
      ],
      "execution_count": 21,
      "outputs": [
        {
          "output_type": "execute_result",
          "data": {
            "text/plain": [
              "<matplotlib.legend.Legend at 0x7f5e8716cf90>"
            ]
          },
          "metadata": {},
          "execution_count": 21
        },
        {
          "output_type": "display_data",
          "data": {
            "image/png": "[encoded data removed]",
            "text/plain": [
              "<Figure size 432x288 with 1 Axes>"
            ]
          },
          "metadata": {}
        }
      ]
    },
    {
      "cell_type": "code",
      "metadata": {
        "id": "-jP0ZKebnlf3"
      },
      "source": [
        ""
      ],
      "execution_count": null,
      "outputs": []
    }
  ]
}