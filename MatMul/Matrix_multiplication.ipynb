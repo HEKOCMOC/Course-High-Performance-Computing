{
  "nbformat": 4,
  "nbformat_minor": 0,
  "metadata": {
    "colab": {
      "name": "Matrix_multiplication.ipynb",
      "provenance": [],
      "collapsed_sections": [],
      "authorship_tag": "ABX9TyN61NTXqNmiAT3cFrs0TgHw",
      "include_colab_link": true
    },
    "kernelspec": {
      "name": "python3",
      "display_name": "Python 3"
    },
    "language_info": {
      "name": "python"
    },
    "accelerator": "GPU"
  },
  "cells": [
    {
      "cell_type": "markdown",
      "metadata": {
        "id": "view-in-github",
        "colab_type": "text"
      },
      "source": [
        "<a href=\"https://colab.research.google.com/github/HEKOCMOC/HPC_LAB/blob/main/MatMul/Matrix_multiplication.ipynb\" target=\"_parent\"><img src=\"https://colab.research.google.com/assets/colab-badge.svg\" alt=\"Open In Colab\"/></a>"
      ]
    },
    {
      "cell_type": "code",
      "metadata": {
        "colab": {
          "base_uri": "https://localhost:8080/"
        },
        "id": "aJxmSgIyrYCZ",
        "outputId": "a5a4ff10-8587-4df0-c15c-810dc0daf49a"
      },
      "source": [
        "%pylab inline"
      ],
      "execution_count": 1,
      "outputs": [
        {
          "output_type": "stream",
          "name": "stdout",
          "text": [
            "Populating the interactive namespace from numpy and matplotlib\n"
          ]
        }
      ]
    },
    {
      "cell_type": "code",
      "metadata": {
        "colab": {
          "base_uri": "https://localhost:8080/"
        },
        "id": "ghblHRqYMNDj",
        "outputId": "11fd9fe8-4486-4263-9dc4-b3a6c0298a3d"
      },
      "source": [
        "!pip install py-cpuinfo"
      ],
      "execution_count": 2,
      "outputs": [
        {
          "output_type": "stream",
          "name": "stdout",
          "text": [
            "Collecting py-cpuinfo\n",
            "  Downloading py-cpuinfo-8.0.0.tar.gz (99 kB)\n",
            "\u001b[?25l\r\u001b[K     |███▎                            | 10 kB 25.3 MB/s eta 0:00:01\r\u001b[K     |██████▋                         | 20 kB 26.6 MB/s eta 0:00:01\r\u001b[K     |█████████▉                      | 30 kB 12.1 MB/s eta 0:00:01\r\u001b[K     |█████████████▏                  | 40 kB 9.5 MB/s eta 0:00:01\r\u001b[K     |████████████████▍               | 51 kB 5.4 MB/s eta 0:00:01\r\u001b[K     |███████████████████▊            | 61 kB 5.9 MB/s eta 0:00:01\r\u001b[K     |███████████████████████         | 71 kB 5.7 MB/s eta 0:00:01\r\u001b[K     |██████████████████████████▎     | 81 kB 6.3 MB/s eta 0:00:01\r\u001b[K     |█████████████████████████████▌  | 92 kB 4.9 MB/s eta 0:00:01\r\u001b[K     |████████████████████████████████| 99 kB 3.5 MB/s \n",
            "\u001b[?25hBuilding wheels for collected packages: py-cpuinfo\n",
            "  Building wheel for py-cpuinfo (setup.py) ... \u001b[?25l\u001b[?25hdone\n",
            "  Created wheel for py-cpuinfo: filename=py_cpuinfo-8.0.0-py3-none-any.whl size=22258 sha256=dab06f45edd60a76d6261caa5576097badbb07fbc64391b1dd924e2d36e56e31\n",
            "  Stored in directory: /root/.cache/pip/wheels/d2/f1/1f/041add21dc9c4220157f1bd2bd6afe1f1a49524c3396b94401\n",
            "Successfully built py-cpuinfo\n",
            "Installing collected packages: py-cpuinfo\n",
            "Successfully installed py-cpuinfo-8.0.0\n"
          ]
        }
      ]
    },
    {
      "cell_type": "code",
      "metadata": {
        "colab": {
          "base_uri": "https://localhost:8080/"
        },
        "id": "o4HIVpUarbeb",
        "outputId": "0ee5c22c-dc32-40c1-f302-7cd751314516"
      },
      "source": [
        "import math\n",
        "import numpy as np\n",
        "from numba import cuda, jit, float64\n",
        "import time\n",
        "import pandas as pd\n",
        "import cpuinfo \n",
        "\n",
        "print('CPU, выделенный на сервере Colab:', cpuinfo.get_cpu_info()['brand_raw'])\n",
        "print('GPU, выделенный на сервере Colab:', cuda.get_current_device())"
      ],
      "execution_count": 3,
      "outputs": [
        {
          "output_type": "stream",
          "name": "stdout",
          "text": [
            "CPU, выделенный на сервере Colab: Intel(R) Xeon(R) CPU @ 2.30GHz\n",
            "GPU, выделенный на сервере Colab: <CUDA device 0 'b'Tesla K80''>\n"
          ]
        }
      ]
    },
    {
      "cell_type": "code",
      "metadata": {
        "id": "DoTH_1WItIvh"
      },
      "source": [
        "N0 = 50\n",
        "A0 = np.random.randn(N0, N0)\n",
        "B0 = np.random.randn(N0, N0)\n",
        "C0 = np.zeros((N0, N0))"
      ],
      "execution_count": 4,
      "outputs": []
    },
    {
      "cell_type": "code",
      "metadata": {
        "id": "prJVLgbNZL1R"
      },
      "source": [
        "N1 = 128\n",
        "A1 = np.random.randn(N1, N1)\n",
        "B1 = np.random.randn(N1, N1)\n",
        "C1 = np.zeros((N1, N1))"
      ],
      "execution_count": 5,
      "outputs": []
    },
    {
      "cell_type": "code",
      "metadata": {
        "id": "utiG3h5mZMrv"
      },
      "source": [
        "N2 = 500\n",
        "A2 = np.random.randn(N2, N2)\n",
        "B2 = np.random.randn(N2, N2)\n",
        "C2 = np.zeros((N2, N2))"
      ],
      "execution_count": 6,
      "outputs": []
    },
    {
      "cell_type": "code",
      "metadata": {
        "colab": {
          "base_uri": "https://localhost:8080/"
        },
        "id": "j5k9rj3AH7yj",
        "outputId": "5465d4d8-9d72-4e4b-b40c-b2444f8f3695"
      },
      "source": [
        "def CPU_matmul_dot(A, B):\n",
        "  C = np.dot(A,B)\n",
        "\n",
        "s1 = time.time()\n",
        "CPU_matmul_dot(A0, B0)\n",
        "host_0 = C0\n",
        "end0 = time.time() - s1\n",
        "print(' -----------------------------------')\n",
        "print('| Matmul on CPU (np.dot): {:.3f}'.format(end0), 'sec.|')\n",
        "print(' -----------------------------------')\n",
        "\n",
        "s2 = time.time()\n",
        "CPU_matmul_dot(A1, B1)\n",
        "end1 = time.time() - s2\n",
        "print(' -----------------------------------')\n",
        "print('| Matmul on CPU (np.dot): {:.3f}'.format(end1), 'sec.|')\n",
        "print(' -----------------------------------')\n",
        "\n",
        "s3 = time.time()\n",
        "CPU_matmul_dot(A2, B2)\n",
        "end2 = time.time() - s3\n",
        "print(' -----------------------------------')\n",
        "print('| Matmul on CPU (np.dot): {:.3f}'.format(end2), 'sec.|')\n",
        "print(' -----------------------------------')"
      ],
      "execution_count": 7,
      "outputs": [
        {
          "output_type": "stream",
          "name": "stdout",
          "text": [
            " -----------------------------------\n",
            "| Matmul on CPU (np.dot): 0.004 sec.|\n",
            " -----------------------------------\n",
            " -----------------------------------\n",
            "| Matmul on CPU (np.dot): 0.003 sec.|\n",
            " -----------------------------------\n",
            " -----------------------------------\n",
            "| Matmul on CPU (np.dot): 0.014 sec.|\n",
            " -----------------------------------\n"
          ]
        }
      ]
    },
    {
      "cell_type": "code",
      "metadata": {
        "colab": {
          "base_uri": "https://localhost:8080/"
        },
        "id": "0YdOpDiu8rkG",
        "outputId": "c9dca66a-0284-4378-c71b-64f9fa6ac7b2"
      },
      "source": [
        "def CPU_matmul(A, B, C):\n",
        "  for i in range(C.shape[0]):\n",
        "    for j in range(C.shape[1]):\n",
        "      sum = 0\n",
        "      for k in range(A.shape[1]):\n",
        "        sum += A[i, k] * B[k, j]\n",
        "      C[i, j] = sum\n",
        "\n",
        "host_1 = C0\n",
        "\n",
        "s4 = time.time()\n",
        "CPU_matmul(A0, B0, C0)\n",
        "end3 = time.time() - s4\n",
        "print(' --------------------------')\n",
        "print('| Matmul on CPU: {:.3f}'.format(end3), 'sec.|')\n",
        "print(' --------------------------')\n",
        "\n",
        "s5 = time.time()\n",
        "CPU_matmul(A1, B1, C1)\n",
        "end4 = time.time() - s5\n",
        "print(' --------------------------')\n",
        "print('| Matmul on CPU: {:.3f}'.format(end4), 'sec.|')\n",
        "print(' --------------------------')\n",
        "\n",
        "s6 = time.time()\n",
        "CPU_matmul(A2, B2, C2)\n",
        "end5 = time.time() - s6\n",
        "print(' ---------------------------')\n",
        "print('| Matmul on CPU: {:.3f}'.format(end5), 'sec.|')\n",
        "print(' ---------------------------')"
      ],
      "execution_count": 8,
      "outputs": [
        {
          "output_type": "stream",
          "name": "stdout",
          "text": [
            " --------------------------\n",
            "| Matmul on CPU: 0.113 sec.|\n",
            " --------------------------\n",
            " --------------------------\n",
            "| Matmul on CPU: 1.429 sec.|\n",
            " --------------------------\n",
            " ---------------------------\n",
            "| Matmul on CPU: 79.691 sec.|\n",
            " ---------------------------\n"
          ]
        }
      ]
    },
    {
      "cell_type": "code",
      "metadata": {
        "id": "88SCFSHPu-1n",
        "colab": {
          "base_uri": "https://localhost:8080/"
        },
        "outputId": "b9df189f-d30b-4665-e074-3226e279411b"
      },
      "source": [
        "@jit\n",
        "def CPU_matmul_jit(A, B, C):\n",
        "  for i in range(C.shape[0]):\n",
        "    for j in range(C.shape[1]):\n",
        "      sum = 0\n",
        "      for k in range(A.shape[1]):\n",
        "        sum += A[i, k] * B[k, j]\n",
        "      C[i, j] = sum\n",
        "\n",
        "host_2 = C0\n",
        "\n",
        "s7 = time.time()\n",
        "CPU_matmul_jit(A0, B0, C0)\n",
        "end6 = time.time() - s7\n",
        "print(' --------------------------------')\n",
        "print('| Matmul on CPU (jit): {:.3f}'.format(end6), 'sec.|')\n",
        "print(' --------------------------------')\n",
        "\n",
        "s8 = time.time()\n",
        "CPU_matmul_jit(A1, B1, C1)\n",
        "end7 = time.time() - s8\n",
        "print(' --------------------------------')\n",
        "print('| Matmul on CPU (jit): {:.3f}'.format(end7), 'sec.|')\n",
        "print(' --------------------------------')\n",
        "\n",
        "s9 = time.time()\n",
        "CPU_matmul_jit(A2, B2, C2)\n",
        "end8 = time.time() - s9\n",
        "print(' --------------------------------')\n",
        "print('| Matmul on CPU (jit): {:.3f}'.format(end8), 'sec.|')\n",
        "print(' --------------------------------')"
      ],
      "execution_count": 9,
      "outputs": [
        {
          "output_type": "stream",
          "name": "stdout",
          "text": [
            " --------------------------------\n",
            "| Matmul on CPU (jit): 0.467 sec.|\n",
            " --------------------------------\n",
            " --------------------------------\n",
            "| Matmul on CPU (jit): 0.003 sec.|\n",
            " --------------------------------\n",
            " --------------------------------\n",
            "| Matmul on CPU (jit): 0.182 sec.|\n",
            " --------------------------------\n"
          ]
        }
      ]
    },
    {
      "cell_type": "code",
      "metadata": {
        "id": "qH8N7wDc1LdY",
        "colab": {
          "base_uri": "https://localhost:8080/"
        },
        "outputId": "0c4d6d17-c434-44a3-c237-3c02469371ea"
      },
      "source": [
        "@cuda.jit\n",
        "def GPU_matmul_cuda_jit(A, B, C):\n",
        "  i, j = cuda.grid(2)\n",
        "  if i < C.shape[0] and j < C.shape[1]:\n",
        "    sum = 0\n",
        "    for k in range(A.shape[1]):\n",
        "      sum += A[i, k] * B[k, j]\n",
        "      C[i, j] = sum\n",
        "\n",
        "\n",
        "def host_naive(A, B, C):\n",
        "  d_A = cuda.to_device(A)\n",
        "  d_B = cuda.to_device(B)\n",
        "  d_C = cuda.device_array(C.shape, np.float64)\n",
        "\n",
        "  threadsperblock = (32, 32)\n",
        "  blockspergrid_x = math.ceil(A.shape[0]/threadsperblock[0])\n",
        "  blockspergrid_y = math.ceil(B.shape[1]/threadsperblock[1])\n",
        "  blockspergrid = (blockspergrid_x, blockspergrid_y)\n",
        "\n",
        "  GPU_matmul_cuda_jit[blockspergrid, threadsperblock](d_A, d_B, d_C)\n",
        "  return d_C.copy_to_host()\n",
        "\n",
        "\n",
        "cuda.select_device(0) #выбор устройства GPU\n",
        "s10 = time.time()\n",
        "host_naive(A0, B0, C0)\n",
        "host_3 = C0\n",
        "end9 = time.time() - s10\n",
        "print(' --------------------------')\n",
        "print('| Matmul on GPU: {:.3f}'.format(end9), 'sec.|')\n",
        "print(' --------------------------')\n",
        "\n",
        "cuda.select_device(0)\n",
        "s11 = time.time()\n",
        "host_naive(A1, B1, C1)\n",
        "end10 = time.time() - s11\n",
        "print(' --------------------------')\n",
        "print('| Matmul on GPU: {:.3f}'.format(end10), 'sec.|')\n",
        "print(' --------------------------')\n",
        "\n",
        "cuda.select_device(0)\n",
        "s12 = time.time()\n",
        "host_naive(A2, B2, C2)\n",
        "end11 = time.time() - s12\n",
        "print(' --------------------------')\n",
        "print('| Matmul on GPU: {:.3f}'.format(end11), 'sec.|')\n",
        "print(' --------------------------')"
      ],
      "execution_count": 10,
      "outputs": [
        {
          "output_type": "stream",
          "name": "stdout",
          "text": [
            " --------------------------\n",
            "| Matmul on GPU: 0.573 sec.|\n",
            " --------------------------\n",
            " --------------------------\n",
            "| Matmul on GPU: 0.005 sec.|\n",
            " --------------------------\n",
            " --------------------------\n",
            "| Matmul on GPU: 0.065 sec.|\n",
            " --------------------------\n"
          ]
        }
      ]
    },
    {
      "cell_type": "code",
      "metadata": {
        "id": "9k_JPhKi8dbb"
      },
      "source": [
        "assert np.allclose(host_0, host_3)\n",
        "assert np.allclose(host_1, host_3)\n",
        "assert np.allclose(host_2, host_3)"
      ],
      "execution_count": 11,
      "outputs": []
    },
    {
      "cell_type": "code",
      "metadata": {
        "id": "2F5BItNMKJaW",
        "colab": {
          "base_uri": "https://localhost:8080/",
          "height": 421
        },
        "outputId": "0309ac00-2ce3-40e7-fed5-c4ec16c7f4f4"
      },
      "source": [
        "timing_df = pd.DataFrame({'Name':['CPU', 'CPU(dot)', 'CPU(jit)' ,'GPU', 'CPU', 'CPU(dot)', 'CPU(jit)' ,'GPU', 'CPU', 'CPU(dot)', 'CPU(jit)' ,'GPU'], 'Time(s)':[end0, end3, end6, end9, end1, end4, end7, end10, end2, end5, end8, end11], 'Matrix size':[N0, N0, N0, N0, N1, N1, N1, N1, N2, N2, N2, N2]})\n",
        "timing_df"
      ],
      "execution_count": 12,
      "outputs": [
        {
          "output_type": "execute_result",
          "data": {
            "text/html": [
              "<div>\n",
              "<style scoped>\n",
              "    .dataframe tbody tr th:only-of-type {\n",
              "        vertical-align: middle;\n",
              "    }\n",
              "\n",
              "    .dataframe tbody tr th {\n",
              "        vertical-align: top;\n",
              "    }\n",
              "\n",
              "    .dataframe thead th {\n",
              "        text-align: right;\n",
              "    }\n",
              "</style>\n",
              "<table border=\"1\" class=\"dataframe\">\n",
              "  <thead>\n",
              "    <tr style=\"text-align: right;\">\n",
              "      <th></th>\n",
              "      <th>Name</th>\n",
              "      <th>Time(s)</th>\n",
              "      <th>Matrix size</th>\n",
              "    </tr>\n",
              "  </thead>\n",
              "  <tbody>\n",
              "    <tr>\n",
              "      <th>0</th>\n",
              "      <td>CPU</td>\n",
              "      <td>0.004347</td>\n",
              "      <td>50</td>\n",
              "    </tr>\n",
              "    <tr>\n",
              "      <th>1</th>\n",
              "      <td>CPU(dot)</td>\n",
              "      <td>0.113307</td>\n",
              "      <td>50</td>\n",
              "    </tr>\n",
              "    <tr>\n",
              "      <th>2</th>\n",
              "      <td>CPU(jit)</td>\n",
              "      <td>0.466617</td>\n",
              "      <td>50</td>\n",
              "    </tr>\n",
              "    <tr>\n",
              "      <th>3</th>\n",
              "      <td>GPU</td>\n",
              "      <td>0.573427</td>\n",
              "      <td>50</td>\n",
              "    </tr>\n",
              "    <tr>\n",
              "      <th>4</th>\n",
              "      <td>CPU</td>\n",
              "      <td>0.002797</td>\n",
              "      <td>128</td>\n",
              "    </tr>\n",
              "    <tr>\n",
              "      <th>5</th>\n",
              "      <td>CPU(dot)</td>\n",
              "      <td>1.428675</td>\n",
              "      <td>128</td>\n",
              "    </tr>\n",
              "    <tr>\n",
              "      <th>6</th>\n",
              "      <td>CPU(jit)</td>\n",
              "      <td>0.002504</td>\n",
              "      <td>128</td>\n",
              "    </tr>\n",
              "    <tr>\n",
              "      <th>7</th>\n",
              "      <td>GPU</td>\n",
              "      <td>0.005052</td>\n",
              "      <td>128</td>\n",
              "    </tr>\n",
              "    <tr>\n",
              "      <th>8</th>\n",
              "      <td>CPU</td>\n",
              "      <td>0.013502</td>\n",
              "      <td>500</td>\n",
              "    </tr>\n",
              "    <tr>\n",
              "      <th>9</th>\n",
              "      <td>CPU(dot)</td>\n",
              "      <td>79.690752</td>\n",
              "      <td>500</td>\n",
              "    </tr>\n",
              "    <tr>\n",
              "      <th>10</th>\n",
              "      <td>CPU(jit)</td>\n",
              "      <td>0.181657</td>\n",
              "      <td>500</td>\n",
              "    </tr>\n",
              "    <tr>\n",
              "      <th>11</th>\n",
              "      <td>GPU</td>\n",
              "      <td>0.064594</td>\n",
              "      <td>500</td>\n",
              "    </tr>\n",
              "  </tbody>\n",
              "</table>\n",
              "</div>"
            ],
            "text/plain": [
              "        Name    Time(s)  Matrix size\n",
              "0        CPU   0.004347           50\n",
              "1   CPU(dot)   0.113307           50\n",
              "2   CPU(jit)   0.466617           50\n",
              "3        GPU   0.573427           50\n",
              "4        CPU   0.002797          128\n",
              "5   CPU(dot)   1.428675          128\n",
              "6   CPU(jit)   0.002504          128\n",
              "7        GPU   0.005052          128\n",
              "8        CPU   0.013502          500\n",
              "9   CPU(dot)  79.690752          500\n",
              "10  CPU(jit)   0.181657          500\n",
              "11       GPU   0.064594          500"
            ]
          },
          "metadata": {},
          "execution_count": 12
        }
      ]
    },
    {
      "cell_type": "code",
      "metadata": {
        "id": "KCfcxDLXhLfu",
        "colab": {
          "base_uri": "https://localhost:8080/",
          "height": 142
        },
        "outputId": "63ab686e-9e83-4909-e31a-d62ed80b1a09"
      },
      "source": [
        "acc = pd.DataFrame({'Acceleration (CPU/GPU)':[end3/end9, end4/end10, end5/end11], 'Acceleration (dot/GPU)':[end0/end9, end1/end10, end2/end11], 'Acceleration (jit/GPU)':[end6/end9, end7/end10, end8/end11]})\n",
        "acc"
      ],
      "execution_count": 13,
      "outputs": [
        {
          "output_type": "execute_result",
          "data": {
            "text/html": [
              "<div>\n",
              "<style scoped>\n",
              "    .dataframe tbody tr th:only-of-type {\n",
              "        vertical-align: middle;\n",
              "    }\n",
              "\n",
              "    .dataframe tbody tr th {\n",
              "        vertical-align: top;\n",
              "    }\n",
              "\n",
              "    .dataframe thead th {\n",
              "        text-align: right;\n",
              "    }\n",
              "</style>\n",
              "<table border=\"1\" class=\"dataframe\">\n",
              "  <thead>\n",
              "    <tr style=\"text-align: right;\">\n",
              "      <th></th>\n",
              "      <th>Acceleration (CPU/GPU)</th>\n",
              "      <th>Acceleration (dot/GPU)</th>\n",
              "      <th>Acceleration (jit/GPU)</th>\n",
              "    </tr>\n",
              "  </thead>\n",
              "  <tbody>\n",
              "    <tr>\n",
              "      <th>0</th>\n",
              "      <td>0.197595</td>\n",
              "      <td>0.007581</td>\n",
              "      <td>0.813735</td>\n",
              "    </tr>\n",
              "    <tr>\n",
              "      <th>1</th>\n",
              "      <td>282.802303</td>\n",
              "      <td>0.553589</td>\n",
              "      <td>0.495635</td>\n",
              "    </tr>\n",
              "    <tr>\n",
              "      <th>2</th>\n",
              "      <td>1233.712422</td>\n",
              "      <td>0.209022</td>\n",
              "      <td>2.812271</td>\n",
              "    </tr>\n",
              "  </tbody>\n",
              "</table>\n",
              "</div>"
            ],
            "text/plain": [
              "   Acceleration (CPU/GPU)  Acceleration (dot/GPU)  Acceleration (jit/GPU)\n",
              "0                0.197595                0.007581                0.813735\n",
              "1              282.802303                0.553589                0.495635\n",
              "2             1233.712422                0.209022                2.812271"
            ]
          },
          "metadata": {},
          "execution_count": 13
        }
      ]
    },
    {
      "cell_type": "code",
      "metadata": {
        "id": "AitTeplXhtXb"
      },
      "source": [
        "import matplotlib.pyplot as plt"
      ],
      "execution_count": 14,
      "outputs": []
    },
    {
      "cell_type": "code",
      "metadata": {
        "id": "uVHFWctzOaFl",
        "colab": {
          "base_uri": "https://localhost:8080/",
          "height": 296
        },
        "outputId": "34a9e675-958d-4848-e382-f8097b17e576"
      },
      "source": [
        "plt.plot([N0, N1, N2], [end3, end4, end5], color = 'orange', label = 'CPU')\n",
        "plt.plot([N0, N1, N2], [end0, end1, end2], color = 'green', label = 'CPU(dot)')\n",
        "plt.plot([N0, N1, N2], [end6, end7, end8], color = 'red' , label = 'CPU(jit)')\n",
        "plt.plot([N0, N1, N2], [end9, end10, end11], color = 'blue', label = 'GPU')\n",
        "plt.rcParams['figure.facecolor'] = 'white'\n",
        "plt.xlabel('Matrix size')\n",
        "plt.ylabel('Time, s')\n",
        "plt.legend()"
      ],
      "execution_count": 15,
      "outputs": [
        {
          "output_type": "execute_result",
          "data": {
            "text/plain": [
              "<matplotlib.legend.Legend at 0x7fc87dbfb490>"
            ]
          },
          "metadata": {},
          "execution_count": 15
        },
        {
          "output_type": "display_data",
          "data": {
            "image/png": "[encoded data removed]",
            "text/plain": [
              "<Figure size 432x288 with 1 Axes>"
            ]
          },
          "metadata": {
            "needs_background": "light"
          }
        }
      ]
    },
    {
      "cell_type": "code",
      "metadata": {
        "id": "aomVAWrlPvse"
      },
      "source": [
        ""
      ],
      "execution_count": 15,
      "outputs": []
    }
  ]
}