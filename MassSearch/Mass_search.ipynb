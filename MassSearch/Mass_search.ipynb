{
  "nbformat": 4,
  "nbformat_minor": 0,
  "metadata": {
    "colab": {
      "name": "Mass_search.ipynb",
      "provenance": [],
      "authorship_tag": "ABX9TyPBZMrtggTudpmHmzHxzu//"
    },
    "kernelspec": {
      "name": "python3",
      "display_name": "Python 3"
    },
    "language_info": {
      "name": "python"
    },
    "accelerator": "GPU"
  },
  "cells": [
    {
      "cell_type": "markdown",
      "source": [
        "Импорт используемых библиотек"
      ],
      "metadata": {
        "id": "jXAQZjBNn3AT"
      }
    },
    {
      "cell_type": "code",
      "source": [
        "import numpy as np\n",
        "import pandas as pd\n",
        "from time import time\n",
        "import matplotlib.pyplot as plt\n",
        "from numba import cuda"
      ],
      "metadata": {
        "id": "BABT8t8MpXBR"
      },
      "execution_count": 2,
      "outputs": []
    },
    {
      "cell_type": "markdown",
      "source": [
        "Функция для поиска подстрок на CPU"
      ],
      "metadata": {
        "id": "coViOYngn60b"
      }
    },
    {
      "cell_type": "code",
      "source": [
        "def mass_search_CPU(N: np.ndarray, H: np.ndarray, R: np.ndarray):\n",
        "  for j in range(R.shape[1]):\n",
        "    for i in range(R.shape[0]):\n",
        "      n = N[i]\n",
        "      for k in range(len(n)):\n",
        "        if n[k] == H[j]:\n",
        "          R[i, j - k] -= 1\n",
        "  return R"
      ],
      "metadata": {
        "id": "UxDB_76L3zOy"
      },
      "execution_count": 11,
      "outputs": []
    },
    {
      "cell_type": "markdown",
      "source": [
        "Функция для поиска подстрок уже на GPU"
      ],
      "metadata": {
        "id": "ghNR2zicoAeY"
      }
    },
    {
      "cell_type": "code",
      "source": [
        "@cuda.jit\n",
        "def mass_search_GPU(N: np.ndarray, H: np.ndarray, R: np.ndarray):\n",
        "\t# Получение асболютного значения индекса потока в сетке\n",
        "\tx, y = cuda.grid(2)\n",
        "\t# Рассматриваем каждый символ подстроки\n",
        "\tfor k in range(N.shape[1]):\n",
        "\t\t# Декремент, если символ подстроки совпал с символом входного буффера\n",
        "\t\tif N[y, k] == H[x]:\n",
        "\t\t\t\tR[y, x - k] -= 1\n",
        "\tcuda.syncthreads()"
      ],
      "metadata": {
        "id": "iaaSUh7b32Am"
      },
      "execution_count": 12,
      "outputs": []
    },
    {
      "cell_type": "code",
      "source": [
        "def save_result(pathfile: str, N: np.ndarray, H: np.ndarray, \n",
        "                result: np.ndarray, mode='a', sheet_name=''):\n",
        "  \"\"\"\n",
        "  СОХРАНЕНИЕ РЕЗУЛЬТАТОВ ПОИСКА ПОДСТРОК.\n",
        "  \"\"\"\n",
        "  \n",
        "  # Для одиннаковой размерности данных result дополняется нулями.\n",
        "  N_i = np.full(len(H), fill_value=None)\n",
        "  position = np.full(len(H), fill_value=None)\n",
        "  N_i[:len(result[0])] = result[0]\n",
        "  position[:len(result[1])] = result[1]\n",
        "\n",
        "  # Приведение списка символов (подстроки) к типу str\n",
        "  # для корректной записи в excel\n",
        "  new_N = [str(n) for n in N]\n",
        "  # Создание DataFrame\n",
        "  df = pd.DataFrame({\"N\": new_N, \"H\": H, \"N_i\": N_i, \n",
        "                     \"Position\": position})\n",
        "  # Если sheet_name не указан, то ставится дефолтное значение длины N\n",
        "  if sheet_name == '':\n",
        "    sheet_name = str(len(N))\n",
        "  \n",
        "  # Если стоит mode='a', то первая запись в файл выдаст ошибку,\n",
        "  # поэтому в этом случае mode меняется на 'w'.\n",
        "  try:\n",
        "    with pd.ExcelWriter(pathfile, mode=mode) as writer:\n",
        "      df.to_excel(writer, sheet_name=sheet_name)\n",
        "  except:\n",
        "    with pd.ExcelWriter(pathfile, mode='w') as writer:\n",
        "      df.to_excel(writer, sheet_name=sheet_name)"
      ],
      "metadata": {
        "id": "ct1ePqSqrKzi"
      },
      "execution_count": 29,
      "outputs": []
    },
    {
      "cell_type": "markdown",
      "source": [
        "Блок запуска функций, вычисления времени работы этих функций и представления всего этого в табличном виде"
      ],
      "metadata": {
        "id": "-zOa7voJoOTO"
      }
    },
    {
      "cell_type": "code",
      "source": [
        "sizes = np.arange(160, 1600, 160) # Размерности N и H (160, 320, ..., 1440)\n",
        "i = 10                            # Кол-во итераций для подсчёта среднего времени\n",
        "N_chars = 2                       # Кол-во символов в подстроках\n",
        "BLOCK_DIM = 16                    # Размерность оси квадратного блока\n",
        "BLOCK_SIZE = (BLOCK_DIM, BLOCK_DIM)\n",
        "\n",
        "alp = np.arange(256)\n",
        "\n",
        "df = {\"Длина N\":sizes,\n",
        "      \"Длина H\":sizes,\n",
        "      \"Время на GPU\":np.zeros(len(sizes), dtype=float), \n",
        "      \"Время на CPU\":np.zeros(len(sizes), dtype=float),\n",
        "      \"Соотношение CPU/GPU\":np.zeros(len(sizes), dtype=float),\n",
        "      \"Одинаковые ли значения?\":np.full(len(sizes), fill_value=True)}\n",
        "\n",
        "df = pd.DataFrame(df, index=sizes)\n",
        "\n",
        "# Вычисления для разных размерностей N и H\n",
        "for size in sizes:\n",
        "\n",
        "  # Случайная генерация подстрок N и входного буффера H\n",
        "  N = np.random.randint(len(alp), size=(size, N_chars), dtype=np.uint8)\n",
        "  H = np.random.randint(len(alp), size=size, dtype=np.uint8)\n",
        "\n",
        "  # Заполнение рабочей матрицы NxH значениями N_chars\n",
        "  R = np.full((size, size), fill_value=N_chars)\n",
        "\n",
        "  # Инициализация сетки блоков\n",
        "  GRID_SIZE = (len(N) // BLOCK_DIM, len(H) // BLOCK_DIM)\n",
        "\n",
        "  # Суммы общего времени за определённое кол-во итераций для реализации\n",
        "  gpu_common_time = []\n",
        "  cpu_common_time = []\n",
        "\n",
        "  # Выполнение одних и тех же вычислений для нахождения среднего времени\n",
        "  for _ in range(i + 1):\n",
        "\n",
        "    #Вычисление времени на GPU\n",
        "    start_time = time()\n",
        "    \n",
        "    # Пересылка данных на устройство\n",
        "    dev_N = cuda.to_device(N)\n",
        "    dev_H = cuda.to_device(H)\n",
        "    dev_R = cuda.to_device(R)\n",
        "    \n",
        "    # Запуск вычислений на GPU\n",
        "    mass_search_GPU[GRID_SIZE, BLOCK_SIZE](dev_N, dev_H, dev_R)\n",
        "\n",
        "    # Копирование рабочей матрицы с устройства на хост\n",
        "    host_R = dev_R.copy_to_host()\n",
        "    gpu_common_time.append(time() - start_time)\n",
        "\n",
        "    #Вычисление времени на CPU\n",
        "    start_time = time()\n",
        "    R = mass_search_CPU(N, H, R.copy())\n",
        "    cpu_common_time.append(time() - start_time)\n",
        "  \n",
        "  # Запись подсчётов времени и соответствия рабочих матриц\n",
        "  df.loc[size, \"Время на GPU\"] = np.mean(gpu_common_time[1:])\n",
        "  df.loc[size, \"Время на CPU\"] = np.mean(cpu_common_time[1:])\n",
        "  df.loc[size, \"Одинаковые ли значения?\"] = np.array_equal(host_R, R)\n",
        "\n",
        "  # Получение списка найденных подстрок\n",
        "  result = np.array(np.where(host_R == 0))\n",
        "\n",
        "  # Сохранение результатов в файл с несколькими листами\n",
        "  save_result(\"found_substrings.xlsx\", N, H, result, sheet_name=f'Размер {size}')\n",
        "  print(f\"Результаты поиска {size} успешно сохранены\")\n",
        "\n",
        "# Запись значений ускорения GPU над CPU\n",
        "df[\"Соотношение CPU/GPU\"] = df[\"Время на CPU\"] / df[\"Время на GPU\"]\n",
        "# Вывод результатов на экран\n",
        "df"
      ],
      "metadata": {
        "colab": {
          "base_uri": "https://localhost:8080/",
          "height": 481
        },
        "id": "zW8NAopQ5U1u",
        "outputId": "5d560f8d-8720-45e1-e2fb-a53a483c4565"
      },
      "execution_count": 30,
      "outputs": [
        {
          "output_type": "stream",
          "name": "stdout",
          "text": [
            "Результаты поиска 160 успешно сохранены\n",
            "Результаты поиска 320 успешно сохранены\n",
            "Результаты поиска 480 успешно сохранены\n",
            "Результаты поиска 640 успешно сохранены\n",
            "Результаты поиска 800 успешно сохранены\n",
            "Результаты поиска 960 успешно сохранены\n",
            "Результаты поиска 1120 успешно сохранены\n",
            "Результаты поиска 1280 успешно сохранены\n",
            "Результаты поиска 1440 успешно сохранены\n"
          ]
        },
        {
          "output_type": "execute_result",
          "data": {
            "text/html": [
              "\n",
              "  <div id=\"df-a23aa97f-62a9-4979-9304-795b53e359fa\">\n",
              "    <div class=\"colab-df-container\">\n",
              "      <div>\n",
              "<style scoped>\n",
              "    .dataframe tbody tr th:only-of-type {\n",
              "        vertical-align: middle;\n",
              "    }\n",
              "\n",
              "    .dataframe tbody tr th {\n",
              "        vertical-align: top;\n",
              "    }\n",
              "\n",
              "    .dataframe thead th {\n",
              "        text-align: right;\n",
              "    }\n",
              "</style>\n",
              "<table border=\"1\" class=\"dataframe\">\n",
              "  <thead>\n",
              "    <tr style=\"text-align: right;\">\n",
              "      <th></th>\n",
              "      <th>Длина N</th>\n",
              "      <th>Длина H</th>\n",
              "      <th>Время на GPU</th>\n",
              "      <th>Время на CPU</th>\n",
              "      <th>Соотношение CPU/GPU</th>\n",
              "      <th>Одинаковые ли значения?</th>\n",
              "    </tr>\n",
              "  </thead>\n",
              "  <tbody>\n",
              "    <tr>\n",
              "      <th>160</th>\n",
              "      <td>160</td>\n",
              "      <td>160</td>\n",
              "      <td>0.002410</td>\n",
              "      <td>0.032692</td>\n",
              "      <td>13.564299</td>\n",
              "      <td>True</td>\n",
              "    </tr>\n",
              "    <tr>\n",
              "      <th>320</th>\n",
              "      <td>320</td>\n",
              "      <td>320</td>\n",
              "      <td>0.002810</td>\n",
              "      <td>0.134650</td>\n",
              "      <td>47.916438</td>\n",
              "      <td>True</td>\n",
              "    </tr>\n",
              "    <tr>\n",
              "      <th>480</th>\n",
              "      <td>480</td>\n",
              "      <td>480</td>\n",
              "      <td>0.003553</td>\n",
              "      <td>0.296176</td>\n",
              "      <td>83.358172</td>\n",
              "      <td>True</td>\n",
              "    </tr>\n",
              "    <tr>\n",
              "      <th>640</th>\n",
              "      <td>640</td>\n",
              "      <td>640</td>\n",
              "      <td>0.003963</td>\n",
              "      <td>0.523175</td>\n",
              "      <td>132.018235</td>\n",
              "      <td>True</td>\n",
              "    </tr>\n",
              "    <tr>\n",
              "      <th>800</th>\n",
              "      <td>800</td>\n",
              "      <td>800</td>\n",
              "      <td>0.004447</td>\n",
              "      <td>0.835363</td>\n",
              "      <td>187.840384</td>\n",
              "      <td>True</td>\n",
              "    </tr>\n",
              "    <tr>\n",
              "      <th>960</th>\n",
              "      <td>960</td>\n",
              "      <td>960</td>\n",
              "      <td>0.005022</td>\n",
              "      <td>1.193482</td>\n",
              "      <td>237.658550</td>\n",
              "      <td>True</td>\n",
              "    </tr>\n",
              "    <tr>\n",
              "      <th>1120</th>\n",
              "      <td>1120</td>\n",
              "      <td>1120</td>\n",
              "      <td>0.006185</td>\n",
              "      <td>1.629818</td>\n",
              "      <td>263.494769</td>\n",
              "      <td>True</td>\n",
              "    </tr>\n",
              "    <tr>\n",
              "      <th>1280</th>\n",
              "      <td>1280</td>\n",
              "      <td>1280</td>\n",
              "      <td>0.007055</td>\n",
              "      <td>2.108109</td>\n",
              "      <td>298.811809</td>\n",
              "      <td>True</td>\n",
              "    </tr>\n",
              "    <tr>\n",
              "      <th>1440</th>\n",
              "      <td>1440</td>\n",
              "      <td>1440</td>\n",
              "      <td>0.007629</td>\n",
              "      <td>2.661813</td>\n",
              "      <td>348.888057</td>\n",
              "      <td>True</td>\n",
              "    </tr>\n",
              "  </tbody>\n",
              "</table>\n",
              "</div>\n",
              "      <button class=\"colab-df-convert\" onclick=\"convertToInteractive('df-a23aa97f-62a9-4979-9304-795b53e359fa')\"\n",
              "              title=\"Convert this dataframe to an interactive table.\"\n",
              "              style=\"display:none;\">\n",
              "        \n",
              "  <svg xmlns=\"http://www.w3.org/2000/svg\" height=\"24px\"viewBox=\"0 0 24 24\"\n",
              "       width=\"24px\">\n",
              "    <path d=\"M0 0h24v24H0V0z\" fill=\"none\"/>\n",
              "    <path d=\"M18.56 5.44l.94 2.06.94-2.06 2.06-.94-2.06-.94-.94-2.06-.94 2.06-2.06.94zm-11 1L8.5 8.5l.94-2.06 2.06-.94-2.06-.94L8.5 2.5l-.94 2.06-2.06.94zm10 10l.94 2.06.94-2.06 2.06-.94-2.06-.94-.94-2.06-.94 2.06-2.06.94z\"/><path d=\"M17.41 7.96l-1.37-1.37c-.4-.4-.92-.59-1.43-.59-.52 0-1.04.2-1.43.59L10.3 9.45l-7.72 7.72c-.78.78-.78 2.05 0 2.83L4 21.41c.39.39.9.59 1.41.59.51 0 1.02-.2 1.41-.59l7.78-7.78 2.81-2.81c.8-.78.8-2.07 0-2.86zM5.41 20L4 18.59l7.72-7.72 1.47 1.35L5.41 20z\"/>\n",
              "  </svg>\n",
              "      </button>\n",
              "      \n",
              "  <style>\n",
              "    .colab-df-container {\n",
              "      display:flex;\n",
              "      flex-wrap:wrap;\n",
              "      gap: 12px;\n",
              "    }\n",
              "\n",
              "    .colab-df-convert {\n",
              "      background-color: #E8F0FE;\n",
              "      border: none;\n",
              "      border-radius: 50%;\n",
              "      cursor: pointer;\n",
              "      display: none;\n",
              "      fill: #1967D2;\n",
              "      height: 32px;\n",
              "      padding: 0 0 0 0;\n",
              "      width: 32px;\n",
              "    }\n",
              "\n",
              "    .colab-df-convert:hover {\n",
              "      background-color: #E2EBFA;\n",
              "      box-shadow: 0px 1px 2px rgba(60, 64, 67, 0.3), 0px 1px 3px 1px rgba(60, 64, 67, 0.15);\n",
              "      fill: #174EA6;\n",
              "    }\n",
              "\n",
              "    [theme=dark] .colab-df-convert {\n",
              "      background-color: #3B4455;\n",
              "      fill: #D2E3FC;\n",
              "    }\n",
              "\n",
              "    [theme=dark] .colab-df-convert:hover {\n",
              "      background-color: #434B5C;\n",
              "      box-shadow: 0px 1px 3px 1px rgba(0, 0, 0, 0.15);\n",
              "      filter: drop-shadow(0px 1px 2px rgba(0, 0, 0, 0.3));\n",
              "      fill: #FFFFFF;\n",
              "    }\n",
              "  </style>\n",
              "\n",
              "      <script>\n",
              "        const buttonEl =\n",
              "          document.querySelector('#df-a23aa97f-62a9-4979-9304-795b53e359fa button.colab-df-convert');\n",
              "        buttonEl.style.display =\n",
              "          google.colab.kernel.accessAllowed ? 'block' : 'none';\n",
              "\n",
              "        async function convertToInteractive(key) {\n",
              "          const element = document.querySelector('#df-a23aa97f-62a9-4979-9304-795b53e359fa');\n",
              "          const dataTable =\n",
              "            await google.colab.kernel.invokeFunction('convertToInteractive',\n",
              "                                                     [key], {});\n",
              "          if (!dataTable) return;\n",
              "\n",
              "          const docLinkHtml = 'Like what you see? Visit the ' +\n",
              "            '<a target=\"_blank\" href=https://colab.research.google.com/notebooks/data_table.ipynb>data table notebook</a>'\n",
              "            + ' to learn more about interactive tables.';\n",
              "          element.innerHTML = '';\n",
              "          dataTable['output_type'] = 'display_data';\n",
              "          await google.colab.output.renderOutput(dataTable, element);\n",
              "          const docLink = document.createElement('div');\n",
              "          docLink.innerHTML = docLinkHtml;\n",
              "          element.appendChild(docLink);\n",
              "        }\n",
              "      </script>\n",
              "    </div>\n",
              "  </div>\n",
              "  "
            ],
            "text/plain": [
              "      Длина N  Длина H  ...  Соотношение CPU/GPU  Одинаковые ли значения?\n",
              "160       160      160  ...            13.564299                     True\n",
              "320       320      320  ...            47.916438                     True\n",
              "480       480      480  ...            83.358172                     True\n",
              "640       640      640  ...           132.018235                     True\n",
              "800       800      800  ...           187.840384                     True\n",
              "960       960      960  ...           237.658550                     True\n",
              "1120     1120     1120  ...           263.494769                     True\n",
              "1280     1280     1280  ...           298.811809                     True\n",
              "1440     1440     1440  ...           348.888057                     True\n",
              "\n",
              "[9 rows x 6 columns]"
            ]
          },
          "metadata": {},
          "execution_count": 30
        }
      ]
    },
    {
      "cell_type": "markdown",
      "source": [
        "Сравнение времени вычислений на CPU и GPU"
      ],
      "metadata": {
        "id": "MxyPYocRpF-O"
      }
    },
    {
      "cell_type": "code",
      "source": [
        "df.plot(x=\"Длина N\", y=[\"Время на GPU\", \"Время на CPU\"], \n",
        "        legend=True, grid=True,\n",
        "        title=\"Сравнение времени вычислений\",\n",
        "        xlabel=\"Длина N\", ylabel=\"Время, с\")"
      ],
      "metadata": {
        "colab": {
          "base_uri": "https://localhost:8080/",
          "height": 312
        },
        "id": "jQVWkrEj5kqw",
        "outputId": "a1c7c700-f5bb-4a10-d298-b8c3aeeff87b"
      },
      "execution_count": 31,
      "outputs": [
        {
          "output_type": "execute_result",
          "data": {
            "text/plain": [
              "<matplotlib.axes._subplots.AxesSubplot at 0x7f4d8ed8bc10>"
            ]
          },
          "metadata": {},
          "execution_count": 31
        },
        {
          "output_type": "display_data",
          "data": {
            "image/png": "[encoded data removed]",
            "text/plain": [
              "<Figure size 432x288 with 1 Axes>"
            ]
          },
          "metadata": {
            "needs_background": "light"
          }
        }
      ]
    },
    {
      "cell_type": "markdown",
      "source": [
        "Визуализация ускорения вычислений"
      ],
      "metadata": {
        "id": "8Xy-aVl6pLwh"
      }
    },
    {
      "cell_type": "code",
      "source": [
        "df.plot(x=\"Длина N\", y=\"Соотношение CPU/GPU\", \n",
        "        legend=True, grid=True, subplots=True, \n",
        "        title=\"Ускорение\",\n",
        "        xlabel=\"Длина N\", ylabel=\"Соотношение CPU/GPU\")"
      ],
      "metadata": {
        "colab": {
          "base_uri": "https://localhost:8080/",
          "height": 332
        },
        "id": "flfM872cmnNR",
        "outputId": "b81138b8-0596-48f3-d1bc-9120a50be821"
      },
      "execution_count": 32,
      "outputs": [
        {
          "output_type": "execute_result",
          "data": {
            "text/plain": [
              "array([<matplotlib.axes._subplots.AxesSubplot object at 0x7f4d8d803a90>],\n",
              "      dtype=object)"
            ]
          },
          "metadata": {},
          "execution_count": 32
        },
        {
          "output_type": "display_data",
          "data": {
            "image/png": "[encoded data removed]",
            "text/plain": [
              "<Figure size 432x288 with 1 Axes>"
            ]
          },
          "metadata": {
            "needs_background": "light"
          }
        }
      ]
    },
    {
      "cell_type": "code",
      "source": [
        ""
      ],
      "metadata": {
        "id": "9_YtwnRSnyrp"
      },
      "execution_count": null,
      "outputs": []
    }
  ]
}